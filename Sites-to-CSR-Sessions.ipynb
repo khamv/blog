{
 "cells": [
  {
   "cell_type": "markdown",
   "metadata": {},
   "source": [
    "## Импорт"
   ]
  },
  {
   "cell_type": "code",
   "execution_count": 1,
   "metadata": {
    "collapsed": false
   },
   "outputs": [],
   "source": [
    "# !pip install line_profiler\n",
    "import numpy as np\n",
    "import pandas as pd\n",
    "from scipy.sparse import csr_matrix, vstack\n",
    "import line_profiler"
   ]
  },
  {
   "cell_type": "markdown",
   "metadata": {},
   "source": [
    "## Исходные настройки"
   ]
  },
  {
   "cell_type": "code",
   "execution_count": 2,
   "metadata": {
    "collapsed": true
   },
   "outputs": [],
   "source": [
    "sessions_cnt = 140000\n",
    "session_length = 10\n",
    "window_size = 7\n",
    "total_cnt = 30000\n",
    "sites = pd.Series(np.random.randint(1,total_cnt + 1,sessions_cnt))"
   ]
  },
  {
   "cell_type": "markdown",
   "metadata": {},
   "source": [
    "## Варианты реализации функций"
   ]
  },
  {
   "cell_type": "markdown",
   "metadata": {},
   "source": [
    "### 1. Встроенными методами numpy\n",
    "1.1 Берем срез, скармливаем np.bincount и сразу преобразуем в CSR. После чего объединяем с уже имеющейся CSR матрицей"
   ]
  },
  {
   "cell_type": "code",
   "execution_count": 3,
   "metadata": {
    "collapsed": false
   },
   "outputs": [],
   "source": [
    "def test_spsr_1(lst, session_length=10, window_size=10, total_cnt=11):\n",
    "    X = None\n",
    "    i = 0\n",
    "    cnt = 0\n",
    "    while i  < len(lst):\n",
    "        j = (i + session_length) if i  + session_length  <= len(sites) else len(sites)\n",
    "        arr = csr_matrix(np.bincount(lst[i: j], minlength=total_cnt + 1)[1:])\n",
    "        X = vstack([X, arr]) if X is not None else arr   \n",
    "        i += window_size\n",
    "    return X"
   ]
  },
  {
   "cell_type": "code",
   "execution_count": 4,
   "metadata": {
    "collapsed": false
   },
   "outputs": [
    {
     "name": "stdout",
     "output_type": "stream",
     "text": [
      "Timer unit: 3.11021e-07 s\n",
      "\n",
      "Total time: 18.9843 s\n",
      "File: <ipython-input-3-07959f2aa770>\n",
      "Function: test_spsr_1 at line 1\n",
      "\n",
      "Line #      Hits         Time  Per Hit   % Time  Line Contents\n",
      "==============================================================\n",
      "     1                                           def test_spsr_1(lst, session_length=10, window_size=10, total_cnt=11):\n",
      "     2         1            4      4.0      0.0      X = None\n",
      "     3         1            3      3.0      0.0      i = 0\n",
      "     4         1            1      1.0      0.0      cnt = 0\n",
      "     5     20001       377433     18.9      0.6      while i  < len(lst):\n",
      "     6     20000       212120     10.6      0.3          j = (i + session_length) if i  + session_length  <= len(sites) else len(sites)\n",
      "     7     20000     37811336   1890.6     61.9          arr = csr_matrix(np.bincount(lst[i: j], minlength=total_cnt + 1)[1:])\n",
      "     8     20000     22567185   1128.4     37.0          X = vstack([X, arr]) if X is not None else arr   \n",
      "     9     20000        70428      3.5      0.1          i += window_size\n",
      "    10         1            1      1.0      0.0      return X\n",
      "\n"
     ]
    }
   ],
   "source": [
    "l = line_profiler.LineProfiler()\n",
    "l.add_function(test_spsr_1)\n",
    "l.run(\"test_spsr_1(sites, session_length=session_length, window_size=window_size, total_cnt=total_cnt)\")\n",
    "l.print_stats()"
   ]
  },
  {
   "cell_type": "markdown",
   "metadata": {},
   "source": [
    "### 2. Вручную"
   ]
  },
  {
   "cell_type": "markdown",
   "metadata": {},
   "source": [
    "2.1 Вручную готовим массивы для CSR с помощью np.unique, используем для хранения промежуточных значений np.array"
   ]
  },
  {
   "cell_type": "code",
   "execution_count": 5,
   "metadata": {
    "collapsed": true
   },
   "outputs": [],
   "source": [
    "def test_spsr_2(lst, session_length=10, window_size=10, total_cnt=11):\n",
    "    X = None\n",
    "    i = 0\n",
    "    k = 0\n",
    "    data = np.array([])\n",
    "    indices = np.array([])\n",
    "    indptr = np.array([0])\n",
    "    while i  < len(lst):\n",
    "        j = (i + session_length) if i  + session_length  <= len(sites) else len(sites)\n",
    "        idx, cnt = np.unique(lst[i: j], return_counts=True)\n",
    "        data = np.append(data, cnt)\n",
    "        indices = np.append(indices, idx)\n",
    "        indptr = np.append(indptr, indptr[-1] + len(idx)) \n",
    "        i += window_size\n",
    "        k += 1\n",
    "    arr = csr_matrix((data, indices, indptr), shape=(k, total_cnt + 1))\n",
    "    X = vstack([X, arr]) if X is not None else arr \n",
    "    return X"
   ]
  },
  {
   "cell_type": "code",
   "execution_count": 6,
   "metadata": {
    "collapsed": false
   },
   "outputs": [
    {
     "name": "stdout",
     "output_type": "stream",
     "text": [
      "Timer unit: 3.11021e-07 s\n",
      "\n",
      "Total time: 10.8846 s\n",
      "File: <ipython-input-5-5097cbf6c2ee>\n",
      "Function: test_spsr_2 at line 1\n",
      "\n",
      "Line #      Hits         Time  Per Hit   % Time  Line Contents\n",
      "==============================================================\n",
      "     1                                           def test_spsr_2(lst, session_length=10, window_size=10, total_cnt=11):\n",
      "     2         1            5      5.0      0.0      X = None\n",
      "     3         1            2      2.0      0.0      i = 0\n",
      "     4         1            1      1.0      0.0      k = 0\n",
      "     5         1           39     39.0      0.0      data = np.array([])\n",
      "     6         1            5      5.0      0.0      indices = np.array([])\n",
      "     7         1            9      9.0      0.0      indptr = np.array([0])\n",
      "     8     20001       339866     17.0      1.0      while i  < len(lst):\n",
      "     9     20000       202216     10.1      0.6          j = (i + session_length) if i  + session_length  <= len(sites) else len(sites)\n",
      "    10     20000     10423287    521.2     29.8          idx, cnt = np.unique(lst[i: j], return_counts=True)\n",
      "    11     20000     11270991    563.5     32.2          data = np.append(data, cnt)\n",
      "    12     20000     11819450    591.0     33.8          indices = np.append(indices, idx)\n",
      "    13     20000       854295     42.7      2.4          indptr = np.append(indptr, indptr[-1] + len(idx)) \n",
      "    14     20000        45165      2.3      0.1          i += window_size\n",
      "    15     20000        38778      1.9      0.1          k += 1\n",
      "    16         1         2084   2084.0      0.0      arr = csr_matrix((data, indices, indptr), shape=(k, total_cnt + 1))\n",
      "    17         1            2      2.0      0.0      X = vstack([X, arr]) if X is not None else arr \n",
      "    18         1            1      1.0      0.0      return X\n",
      "\n"
     ]
    }
   ],
   "source": [
    "l = line_profiler.LineProfiler()\n",
    "l.add_function(test_spsr_2)\n",
    "l.run(\"test_spsr_2(sites, session_length=session_length, window_size=window_size, total_cnt=total_cnt)\")\n",
    "l.print_stats()"
   ]
  },
  {
   "cell_type": "markdown",
   "metadata": {},
   "source": [
    "2.2 Вручную готовим массивы для CSR с помощью np.unique, используем для хранения промежуточных значений list"
   ]
  },
  {
   "cell_type": "code",
   "execution_count": 7,
   "metadata": {
    "collapsed": true
   },
   "outputs": [],
   "source": [
    "def test_spsr_3(lst, session_length=10, window_size=10, total_cnt=11):\n",
    "    X = None\n",
    "    i = 0\n",
    "    k = 0\n",
    "    data = []\n",
    "    indices = []\n",
    "    indptr = [0]\n",
    "    while i  < len(lst):\n",
    "        j = (i + session_length) if i  + session_length  <= len(sites) else len(sites)\n",
    "        idx, cnt = np.unique(lst[i: j], return_counts=True)\n",
    "        data.extend(cnt)\n",
    "        indices.extend(idx)\n",
    "        indptr.append(indptr[-1] + len(idx)) \n",
    "        i += window_size\n",
    "        k += 1\n",
    "    arr = csr_matrix((data, indices, indptr), shape=(k, total_cnt + 1))\n",
    "    X = vstack([X, arr]) if X is not None else arr \n",
    "    return X"
   ]
  },
  {
   "cell_type": "code",
   "execution_count": 8,
   "metadata": {
    "collapsed": false
   },
   "outputs": [
    {
     "name": "stdout",
     "output_type": "stream",
     "text": [
      "Timer unit: 3.11021e-07 s\n",
      "\n",
      "Total time: 3.30896 s\n",
      "File: <ipython-input-7-9e780d4b4470>\n",
      "Function: test_spsr_3 at line 1\n",
      "\n",
      "Line #      Hits         Time  Per Hit   % Time  Line Contents\n",
      "==============================================================\n",
      "     1                                           def test_spsr_3(lst, session_length=10, window_size=10, total_cnt=11):\n",
      "     2         1            4      4.0      0.0      X = None\n",
      "     3         1            2      2.0      0.0      i = 0\n",
      "     4         1            2      2.0      0.0      k = 0\n",
      "     5         1            2      2.0      0.0      data = []\n",
      "     6         1            2      2.0      0.0      indices = []\n",
      "     7         1            2      2.0      0.0      indptr = [0]\n",
      "     8     20001       267787     13.4      2.5      while i  < len(lst):\n",
      "     9     20000       187440      9.4      1.8          j = (i + session_length) if i  + session_length  <= len(sites) else len(sites)\n",
      "    10     20000      9553943    477.7     89.8          idx, cnt = np.unique(lst[i: j], return_counts=True)\n",
      "    11     20000       231133     11.6      2.2          data.extend(cnt)\n",
      "    12     20000       135543      6.8      1.3          indices.extend(idx)\n",
      "    13     20000        58168      2.9      0.5          indptr.append(indptr[-1] + len(idx)) \n",
      "    14     20000        31223      1.6      0.3          i += window_size\n",
      "    15     20000        32115      1.6      0.3          k += 1\n",
      "    16         1       141630 141630.0      1.3      arr = csr_matrix((data, indices, indptr), shape=(k, total_cnt + 1))\n",
      "    17         1            6      6.0      0.0      X = vstack([X, arr]) if X is not None else arr \n",
      "    18         1            2      2.0      0.0      return X\n",
      "\n"
     ]
    }
   ],
   "source": [
    "l = line_profiler.LineProfiler()\n",
    "l.add_function(test_spsr_3)\n",
    "l.run(\"test_spsr_3(sites, session_length=session_length, window_size=window_size, total_cnt=total_cnt)\")\n",
    "l.print_stats()"
   ]
  },
  {
   "cell_type": "markdown",
   "metadata": {},
   "source": [
    "2.3 Вручную готовим массивы для CSR с помощью pd.Series.value_counts, используем для хранения промежуточных значений list"
   ]
  },
  {
   "cell_type": "code",
   "execution_count": 9,
   "metadata": {
    "collapsed": true
   },
   "outputs": [],
   "source": [
    "def test_spsr_4(lst, session_length=10, window_size=10,total_cnt=11):\n",
    "    X = None\n",
    "    i = 0\n",
    "    k = 0\n",
    "    data = []\n",
    "    indices = []\n",
    "    indptr = [0]\n",
    "    while i  < len(lst):\n",
    "        j = (i + session_length) if i  + session_length  <= len(sites) else len(sites)\n",
    "        vc = lst[i: j].value_counts()\n",
    "        idx = vc.index\n",
    "        cnt = vc.values\n",
    "        data.extend(cnt)\n",
    "        indices.extend(idx)\n",
    "        indptr.append(indptr[-1] + len(idx)) \n",
    "        i += window_size\n",
    "        k += 1\n",
    "    arr = csr_matrix((data, indices, indptr), shape=(k, total_cnt + 1))\n",
    "    X = vstack([X, arr]) if X is not None else arr \n",
    "    return X"
   ]
  },
  {
   "cell_type": "code",
   "execution_count": 10,
   "metadata": {
    "collapsed": false
   },
   "outputs": [
    {
     "name": "stdout",
     "output_type": "stream",
     "text": [
      "Timer unit: 3.11021e-07 s\n",
      "\n",
      "Total time: 13.845 s\n",
      "File: <ipython-input-9-ec4a8a95350c>\n",
      "Function: test_spsr_4 at line 1\n",
      "\n",
      "Line #      Hits         Time  Per Hit   % Time  Line Contents\n",
      "==============================================================\n",
      "     1                                           def test_spsr_4(lst, session_length=10, window_size=10,total_cnt=11):\n",
      "     2         1            6      6.0      0.0      X = None\n",
      "     3         1            2      2.0      0.0      i = 0\n",
      "     4         1            1      1.0      0.0      k = 0\n",
      "     5         1            2      2.0      0.0      data = []\n",
      "     6         1            2      2.0      0.0      indices = []\n",
      "     7         1            2      2.0      0.0      indptr = [0]\n",
      "     8     20001       285397     14.3      0.6      while i  < len(lst):\n",
      "     9     20000       198833      9.9      0.4          j = (i + session_length) if i  + session_length  <= len(sites) else len(sites)\n",
      "    10     20000     42818466   2140.9     96.2          vc = lst[i: j].value_counts()\n",
      "    11     20000       105136      5.3      0.2          idx = vc.index\n",
      "    12     20000       203010     10.2      0.5          cnt = vc.values\n",
      "    13     20000       246707     12.3      0.6          data.extend(cnt)\n",
      "    14     20000       352062     17.6      0.8          indices.extend(idx)\n",
      "    15     20000        99603      5.0      0.2          indptr.append(indptr[-1] + len(idx)) \n",
      "    16     20000        35020      1.8      0.1          i += window_size\n",
      "    17     20000        32398      1.6      0.1          k += 1\n",
      "    18         1       138007 138007.0      0.3      arr = csr_matrix((data, indices, indptr), shape=(k, total_cnt + 1))\n",
      "    19         1            5      5.0      0.0      X = vstack([X, arr]) if X is not None else arr \n",
      "    20         1            2      2.0      0.0      return X\n",
      "\n"
     ]
    }
   ],
   "source": [
    "l = line_profiler.LineProfiler()\n",
    "l.add_function(test_spsr_4)\n",
    "l.run(\"test_spsr_4(sites, session_length=session_length, window_size=window_size, total_cnt=total_cnt)\")\n",
    "l.print_stats()"
   ]
  },
  {
   "cell_type": "code",
   "execution_count": null,
   "metadata": {
    "collapsed": true
   },
   "outputs": [],
   "source": []
  }
 ],
 "metadata": {
  "kernelspec": {
   "display_name": "Python 3",
   "language": "python",
   "name": "python3"
  },
  "language_info": {
   "codemirror_mode": {
    "name": "ipython",
    "version": 3
   },
   "file_extension": ".py",
   "mimetype": "text/x-python",
   "name": "python",
   "nbconvert_exporter": "python",
   "pygments_lexer": "ipython3",
   "version": "3.6.0"
  }
 },
 "nbformat": 4,
 "nbformat_minor": 2
}
